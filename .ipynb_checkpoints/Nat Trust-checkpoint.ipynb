{
 "cells": [
  {
   "cell_type": "code",
   "execution_count": 3,
   "metadata": {},
   "outputs": [],
   "source": [
    "import requests\n",
    "from bs4 import BeautifulSoup as BS\n",
    "import csv\n",
    "import re"
   ]
  },
  {
   "cell_type": "markdown",
   "metadata": {},
   "source": [
    "Get the sitemap from National Trust"
   ]
  },
  {
   "cell_type": "code",
   "execution_count": 4,
   "metadata": {},
   "outputs": [],
   "source": [
    "nturl = \"https://www.nationaltrust.org.uk/sitemap-place.xml\"\n",
    "\n",
    "nt_page = requests.get(nturl).text"
   ]
  },
  {
   "cell_type": "markdown",
   "metadata": {},
   "source": [
    "Read it through beautiful soup as XML"
   ]
  },
  {
   "cell_type": "code",
   "execution_count": 5,
   "metadata": {},
   "outputs": [],
   "source": [
    "soup = BS(nt_page, \"xml\")"
   ]
  },
  {
   "cell_type": "markdown",
   "metadata": {},
   "source": [
    "Find all the links and get just the href"
   ]
  },
  {
   "cell_type": "code",
   "execution_count": 6,
   "metadata": {},
   "outputs": [],
   "source": [
    "data_list = soup.find_all(\"xhtml:link\")"
   ]
  },
  {
   "cell_type": "code",
   "execution_count": 7,
   "metadata": {},
   "outputs": [],
   "source": [
    "alinks = [i.get(\"href\") for i in data_list]\n",
    "\n",
    "# remove duplicates\n",
    "dedupe = []\n",
    "for x in alinks:\n",
    "    if x not in dedupe:\n",
    "        dedupe.append(x)\n",
    "\n",
    "# set up data structure to store values\n",
    "NatTrust = {\n",
    "    \"property1\" : [],\n",
    "    \"section\" : [],\n",
    "    \"ticket\" : [],\n",
    "    \"type\" : [],\n",
    "    \"price\" : [],\n",
    "    \"lat\":[],\n",
    "    \"lon\":[],\n",
    "}\n",
    "AdFree = []"
   ]
  },
  {
   "cell_type": "code",
   "execution_count": 10,
   "metadata": {},
   "outputs": [
    {
     "name": "stdout",
     "output_type": "stream",
     "text": [
      "https://www.nationaltrust.org.uk/segontium#Prices\n",
      "Segontium\n",
      "https://www.nationaltrust.org.uk/clyston-mill#Prices\n",
      "Clyston Mill\n",
      "https://www.nationaltrust.org.uk/mendip-hills#Prices\n",
      "Mendip Hills\n",
      "https://www.nationaltrust.org.uk/ulverscroft-nature-reserve#Prices\n",
      "Ulverscroft Nature Reserve\n",
      "https://www.nationaltrust.org.uk/white-cliffs-dover#Prices\n",
      "The White Cliffs of Dover\n",
      "https://www.nationaltrust.org.uk/bransdale#Prices\n",
      "Bransdale\n",
      "https://www.nationaltrust.org.uk/allen-banks-and-staward-gorge#Prices\n",
      "Allen Banks and Staward Gorge\n",
      "https://www.nationaltrust.org.uk/duffield-castle#Prices\n",
      "Duffield Castle\n",
      "https://www.nationaltrust.org.uk/sutton-house#Prices\n",
      "Sutton House and Breaker's Yard\n",
      "{'property1': ['Clyston Mill', 'Clyston Mill', 'Clyston Mill', 'Clyston Mill', 'Clyston Mill', 'Clyston Mill', 'Clyston Mill', 'Clyston Mill', 'The White Cliffs of Dover', 'The White Cliffs of Dover', 'The White Cliffs of Dover', 'The White Cliffs of Dover', 'The White Cliffs of Dover', 'The White Cliffs of Dover', \"Sutton House and Breaker's Yard\", \"Sutton House and Breaker's Yard\", \"Sutton House and Breaker's Yard\", \"Sutton House and Breaker's Yard\", \"Sutton House and Breaker's Yard\", \"Sutton House and Breaker's Yard\", \"Sutton House and Breaker's Yard\", \"Sutton House and Breaker's Yard\", \"Sutton House and Breaker's Yard\", \"Sutton House and Breaker's Yard\", 'Clyston Mill', 'Clyston Mill', 'Clyston Mill', 'Clyston Mill', 'Clyston Mill', 'Clyston Mill', 'Clyston Mill', 'Clyston Mill', 'The White Cliffs of Dover', 'The White Cliffs of Dover', 'The White Cliffs of Dover', 'The White Cliffs of Dover', 'The White Cliffs of Dover', 'The White Cliffs of Dover', \"Sutton House and Breaker's Yard\", \"Sutton House and Breaker's Yard\", \"Sutton House and Breaker's Yard\", \"Sutton House and Breaker's Yard\", \"Sutton House and Breaker's Yard\", \"Sutton House and Breaker's Yard\", \"Sutton House and Breaker's Yard\", \"Sutton House and Breaker's Yard\", \"Sutton House and Breaker's Yard\", \"Sutton House and Breaker's Yard\"], 'section': ['Whole property', 'Whole property', 'Whole property', 'Whole property', 'Whole property', 'Whole property', 'Whole property', 'Whole property', 'Car parking charge (per car)', 'Car parking charge (per car)', 'Fan Bay Deep Shelter', 'Fan Bay Deep Shelter', 'Fan Bay Deep Shelter', 'Fan Bay Deep Shelter', 'Whole property', 'Whole property', 'Whole property', 'Whole property', 'Whole property', 'Whole property', 'Whole property', 'Whole property', 'Whole property', 'Whole property', 'Whole property', 'Whole property', 'Whole property', 'Whole property', 'Whole property', 'Whole property', 'Whole property', 'Whole property', 'Car parking charge (per car)', 'Car parking charge (per car)', 'Fan Bay Deep Shelter', 'Fan Bay Deep Shelter', 'Fan Bay Deep Shelter', 'Fan Bay Deep Shelter', 'Whole property', 'Whole property', 'Whole property', 'Whole property', 'Whole property', 'Whole property', 'Whole property', 'Whole property', 'Whole property', 'Whole property'], 'ticket': ['Adult', 'Adult', 'Child', 'Child', 'Family', 'Family', '1 adult', '1 adult', 'Adult', 'Adult', 'Adult', 'Adult', 'Child', 'Child', 'Adult', 'Adult', 'Child', 'Child', 'Family', 'Family', 'One adult two Children', 'One adult two Children', 'Group Adult', 'Group Adult', 'Adult', 'Adult', 'Child', 'Child', 'Family', 'Family', '1 adult', '1 adult', 'Adult', 'Adult', 'Adult', 'Adult', 'Child', 'Child', 'Adult', 'Adult', 'Child', 'Child', 'Family', 'Family', 'One adult two Children', 'One adult two Children', 'Group Adult', 'Group Adult'], 'type': ['Gift aid', 'Standard', 'Gift aid', 'Standard', 'Gift aid', 'Standard', 'Gift aid', 'Standard', 'Gift aid', 'Standard', 'Gift aid', 'Standard', 'Gift aid', 'Standard', 'Gift aid', 'Standard', 'Gift aid', 'Standard', 'Gift aid', 'Standard', 'Gift aid', 'Standard', 'Gift aid', 'Standard', 'Gift aid', 'Standard', 'Gift aid', 'Standard', 'Gift aid', 'Standard', 'Gift aid', 'Standard', 'Gift aid', 'Standard', 'Gift aid', 'Standard', 'Gift aid', 'Standard', 'Gift aid', 'Standard', 'Gift aid', 'Standard', 'Gift aid', 'Standard', 'Gift aid', 'Standard', 'Gift aid', 'Standard'], 'price': ['N/A', '£5.80', 'N/A', '£2.90', 'N/A', '£14.50', 'N/A', '£8.70', 'N/A', '£4.00', 'N/A', '£10.00', 'N/A', '£5.00', '£7.00', '£6.30', '£3.50', '£3.00', '£17.50', '£15.50', '£10.50', '£9.50', 'N/A', '£5.40', 'N/A', '£5.80', 'N/A', '£2.90', 'N/A', '£14.50', 'N/A', '£8.70', 'N/A', '£4.00', 'N/A', '£10.00', 'N/A', '£5.00', '£7.00', '£6.30', '£3.50', '£3.00', '£17.50', '£15.50', '£10.50', '£9.50', 'N/A', '£5.40'], 'lat': ['50.76572970', '50.76572970', '50.76572970', '50.76572970', '50.76572970', '50.76572970', '50.76572970', '50.76572970', '51.13220500', '51.13220500', '51.13220500', '51.13220500', '51.13220500', '51.13220500', '51.54800000', '51.54800000', '51.54800000', '51.54800000', '51.54800000', '51.54800000', '51.54800000', '51.54800000', '51.54800000', '51.54800000', '50.76572970', '50.76572970', '50.76572970', '50.76572970', '50.76572970', '50.76572970', '50.76572970', '50.76572970', '51.13220500', '51.13220500', '51.13220500', '51.13220500', '51.13220500', '51.13220500', '51.54800000', '51.54800000', '51.54800000', '51.54800000', '51.54800000', '51.54800000', '51.54800000', '51.54800000', '51.54800000', '51.54800000'], 'lon': ['-3.44753380', '-3.44753380', '-3.44753380', '-3.44753380', '-3.44753380', '-3.44753380', '-3.44753380', '-3.44753380', '1.33902600', '1.33902600', '1.33902600', '1.33902600', '1.33902600', '1.33902600', '-0.04921000', '-0.04921000', '-0.04921000', '-0.04921000', '-0.04921000', '-0.04921000', '-0.04921000', '-0.04921000', '-0.04921000', '-0.04921000', '-3.44753380', '-3.44753380', '-3.44753380', '-3.44753380', '-3.44753380', '-3.44753380', '-3.44753380', '-3.44753380', '1.33902600', '1.33902600', '1.33902600', '1.33902600', '1.33902600', '1.33902600', '-0.04921000', '-0.04921000', '-0.04921000', '-0.04921000', '-0.04921000', '-0.04921000', '-0.04921000', '-0.04921000', '-0.04921000', '-0.04921000']}\n",
      "[<class 'property'>, <class 'property'>, <class 'property'>, <class 'property'>, <class 'property'>, <class 'property'>, <class 'property'>, <class 'property'>, <class 'property'>, <class 'property'>, <class 'property'>, <class 'property'>]\n"
     ]
    }
   ],
   "source": [
    "for i in dedupe[:10]:\n",
    "#clean the URL and add prices to the end\n",
    "    placeclean = ('/').join(i.split('/')[0:4])\n",
    "    placeurl = placeclean +\"#Prices\"\n",
    "#the bits for the lat long\n",
    "    directionsurl=placeclean+\"#How to get here\"\n",
    "    directions_page = requests.get(directionsurl).text\n",
    "    directions_soup=BS(directions_page,\"html.parser\")\n",
    "    directionlink=directions_soup.find(\"a\",{\"id\":\"nt.directions.google-link\"})\n",
    "    if directionlink:\n",
    "        latlon = directionlink['href'].split('//')[2]\n",
    "        lat = latlon.split(',')[0]\n",
    "        lon = latlon.split(',')[1]\n",
    "    else:\n",
    "        continue\n",
    "    print(placeurl)\n",
    "#request the URL and put it through BS \n",
    "    place_page = requests.get(placeurl).text\n",
    "    place_soup=BS(place_page,\"html.parser\")\n",
    "#Get the title\n",
    "    title = place_soup.find(\"meta\",  property=\"og:title\")\n",
    "    if title:\n",
    "        property1 = title[\"content\"]\n",
    "        print(property1)\n",
    "    else:\n",
    "        continue\n",
    "#get the table of prices    \n",
    "    prices = place_soup.find(\"div\",{\"id\":\"nt.prices\"})\n",
    "    if prices:\n",
    "        section = prices.find_all(\"div\",{\"class\":\"section\"})\n",
    "        if section:\n",
    "            for i in section:\n",
    "                sectiontitle = i.find(\"span\")\n",
    "                category = sectiontitle.text\n",
    "                pricesTable = i.find(\"table\").find(\"tbody\").find_all(\"tr\")\n",
    "                for i in pricesTable:\n",
    "                    td = i.find_all(\"td\")\n",
    "                    for index,i in enumerate(td):\n",
    "                        if index==0:\n",
    "                            span=i.find(\"span\")\n",
    "                            if span:\n",
    "                                ticket=span.text\n",
    "                            else:\n",
    "                                ticket=i.text\n",
    "                        elif index==1:\n",
    "                            gaprice=re.sub(r'\\s+', '', i.text)\n",
    "                            NatTrust[\"property1\"].append(property1)\n",
    "                            NatTrust[\"section\"].append(category)\n",
    "                            NatTrust[\"ticket\"].append(ticket)\n",
    "                            NatTrust[\"type\"].append(\"Gift aid\")\n",
    "                            NatTrust[\"price\"].append(gaprice)\n",
    "                            NatTrust[\"lat\"].append(lat)\n",
    "                            NatTrust[\"lon\"].append(lon)\n",
    "                        elif index==2:\n",
    "                            standard = re.sub(r'\\s+', '', i.text)\n",
    "                            NatTrust[\"property1\"].append(property1)\n",
    "                            NatTrust[\"section\"].append(category)\n",
    "                            NatTrust[\"ticket\"].append(ticket)\n",
    "                            NatTrust[\"type\"].append(\"Standard\")\n",
    "                            NatTrust[\"price\"].append(standard)\n",
    "                            NatTrust[\"lat\"].append(lat)\n",
    "                            NatTrust[\"lon\"].append(lon)\n",
    "        else:\n",
    "            free = prices.find(\"h2\",{\"id\":\"nt.prices.free.admission.notice\"})\n",
    "#             print(property, free.text)\n",
    "            AdFree.append(property)\n",
    "    else:\n",
    "        continue\n",
    "        \n",
    "print(NatTrust)\n",
    "print(AdFree)"
   ]
  },
  {
   "cell_type": "code",
   "execution_count": 11,
   "metadata": {},
   "outputs": [],
   "source": [
    "with open(\"NatTrust.csv\", \"w\", encoding=\"utf-8\") as NatTrustCSV:\n",
    "    fields = [\"property1\",\"section\",\"ticket\",\"type\",\"price\",\"lat\",\"lon\"]\n",
    "    writer = csv.DictWriter(NatTrustCSV, fields)\n",
    "    writer.writeheader()\n",
    "    for index,i in enumerate(NatTrust[\"property1\"]):\n",
    "        row={\"property1\":NatTrust[\"property1\"][index],\"section\":NatTrust[\"section\"][index],\"ticket\":NatTrust[\"ticket\"][index],\"type\":NatTrust[\"type\"][index],\"price\":re.sub(r'\\s+', '',NatTrust[\"price\"][index]),\"lat\":NatTrust[\"lat\"][index],\"lon\":NatTrust[\"lon\"][index]}\n",
    "        writer.writerow(row)"
   ]
  },
  {
   "cell_type": "code",
   "execution_count": 12,
   "metadata": {},
   "outputs": [
    {
     "name": "stdout",
     "output_type": "stream",
     "text": [
      "['N/A', '£5.80', 'N/A', '£2.90', 'N/A', '£14.50', 'N/A', '£8.70', 'N/A', '£4.00', 'N/A', '£10.00', 'N/A', '£5.00', '£7.00', '£6.30', '£3.50', '£3.00', '£17.50', '£15.50', '£10.50', '£9.50', 'N/A', '£5.40', 'N/A', '£5.80', 'N/A', '£2.90', 'N/A', '£14.50', 'N/A', '£8.70', 'N/A', '£4.00', 'N/A', '£10.00', 'N/A', '£5.00', '£7.00', '£6.30', '£3.50', '£3.00', '£17.50', '£15.50', '£10.50', '£9.50', 'N/A', '£5.40']\n"
     ]
    }
   ],
   "source": [
    "print(NatTrust[\"price\"])"
   ]
  },
  {
   "cell_type": "code",
   "execution_count": null,
   "metadata": {},
   "outputs": [],
   "source": []
  }
 ],
 "metadata": {
  "kernelspec": {
   "display_name": "Python 3",
   "language": "python",
   "name": "python3"
  },
  "language_info": {
   "codemirror_mode": {
    "name": "ipython",
    "version": 3
   },
   "file_extension": ".py",
   "mimetype": "text/x-python",
   "name": "python",
   "nbconvert_exporter": "python",
   "pygments_lexer": "ipython3",
   "version": "3.6.4"
  }
 },
 "nbformat": 4,
 "nbformat_minor": 2
}
