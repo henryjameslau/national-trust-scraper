{
 "cells": [
  {
   "cell_type": "code",
   "execution_count": 41,
   "metadata": {},
   "outputs": [],
   "source": [
    "import requests\n",
    "from bs4 import BeautifulSoup as BS\n",
    "import csv\n",
    "import re"
   ]
  },
  {
   "cell_type": "markdown",
   "metadata": {},
   "source": [
    "Get the sitemap from National Trust"
   ]
  },
  {
   "cell_type": "code",
   "execution_count": 3,
   "metadata": {},
   "outputs": [],
   "source": [
    "nturl = \"https://www.nationaltrust.org.uk/sitemap-place.xml\"\n",
    "\n",
    "nt_page = requests.get(nturl).text"
   ]
  },
  {
   "cell_type": "markdown",
   "metadata": {},
   "source": [
    "Read it through beautiful soup as XML"
   ]
  },
  {
   "cell_type": "code",
   "execution_count": 4,
   "metadata": {},
   "outputs": [],
   "source": [
    "soup = BS(nt_page, \"xml\")"
   ]
  },
  {
   "cell_type": "markdown",
   "metadata": {},
   "source": [
    "Find all the links and get just the href"
   ]
  },
  {
   "cell_type": "code",
   "execution_count": 5,
   "metadata": {},
   "outputs": [],
   "source": [
    "data_list = soup.find_all(\"xhtml:link\")"
   ]
  },
  {
   "cell_type": "code",
   "execution_count": 6,
   "metadata": {},
   "outputs": [],
   "source": [
    "alinks = [i.get(\"href\") for i in data_list]"
   ]
  },
  {
   "cell_type": "code",
   "execution_count": 52,
   "metadata": {},
   "outputs": [
    {
     "name": "stdout",
     "output_type": "stream",
     "text": [
      "https://www.nationaltrust.org.uk/segontium#Prices\n",
      "Segontium\n",
      "https://www.nationaltrust.org.uk/cy_gb#Prices\n",
      "https://www.nationaltrust.org.uk/clyston-mill#Prices\n",
      "Clyston Mill\n",
      "Whole property\n",
      "Adult\n",
      "\n",
      "N/A\n",
      "\n",
      "\n",
      "£5.80\n",
      "\n",
      "Child\n",
      "\n",
      "N/A\n",
      "\n",
      "\n",
      "£2.90\n",
      "\n",
      "Family\n",
      "\n",
      "N/A\n",
      "\n",
      "\n",
      "£14.50\n",
      "\n",
      "1 adult\n",
      "\n",
      "N/A\n",
      "\n",
      "\n",
      "£8.70\n",
      "\n",
      "https://www.nationaltrust.org.uk/mendip-hills#Prices\n",
      "Mendip Hills\n",
      "https://www.nationaltrust.org.uk/ulverscroft-nature-reserve#Prices\n",
      "Ulverscroft Nature Reserve\n",
      "https://www.nationaltrust.org.uk/white-cliffs-dover#Prices\n",
      "The White Cliffs of Dover\n",
      "Car parking charge (per car)\n",
      "Adult\n",
      "\n",
      "N/A\n",
      "\n",
      "\n",
      "£4.00\n",
      "\n",
      "Fan Bay Deep Shelter\n",
      "Adult\n",
      "\n",
      "N/A\n",
      "\n",
      "\n",
      "£10.00\n",
      "\n",
      "Child\n",
      "\n",
      "N/A\n",
      "\n",
      "\n",
      "£5.00\n",
      "\n",
      "https://www.nationaltrust.org.uk/bransdale#Prices\n",
      "Bransdale\n",
      "https://www.nationaltrust.org.uk/allen-banks-and-staward-gorge#Prices\n",
      "Allen Banks and Staward Gorge\n",
      "https://www.nationaltrust.org.uk/sutton-house#Prices\n",
      "Sutton House and Breaker's Yard\n",
      "Whole property\n",
      "Adult\n",
      "\n",
      "£7.00\n",
      "\n",
      "\n",
      "£6.30\n",
      "\n",
      "Child\n",
      "\n",
      "£3.50\n",
      "\n",
      "\n",
      "£3.00\n",
      "\n",
      "Family\n",
      "\n",
      "£17.50\n",
      "\n",
      "\n",
      "£15.50\n",
      "\n",
      "One adult two Children\n",
      "\n",
      "£10.50\n",
      "\n",
      "\n",
      "£9.50\n",
      "\n",
      "\n",
      "Group Adult\n",
      "Minimum group size 10\n",
      "\n",
      "\n",
      "N/A\n",
      "\n",
      "\n",
      "£5.40\n",
      "\n",
      "https://www.nationaltrust.org.uk/duffield-castle#Prices\n",
      "Duffield Castle\n"
     ]
    }
   ],
   "source": [
    "for i in alinks[:10]:\n",
    "#clean the URL and add prices to the end\n",
    "    placeclean = ('/').join(i.split('/')[0:4])\n",
    "    placeclean +=\"#Prices\"\n",
    "    print(placeclean)\n",
    "#request the URL and put it through BS \n",
    "    place_page = requests.get(placeclean).text\n",
    "    place_soup=BS(place_page,\"html.parser\")\n",
    "#Get the title\n",
    "  \n",
    "    title = place_soup.find(\"meta\",  property=\"og:title\")\n",
    "    if title:\n",
    "        print(title[\"content\"])\n",
    "    else:\n",
    "        continue\n",
    "#get the table of prices    \n",
    "    prices = place_soup.find(\"div\",{\"id\":\"nt.prices\"})\n",
    "    section = prices.find_all(\"div\",{\"class\":\"section\"})\n",
    "    for i in section:\n",
    "        sectiontitle = i.find(\"span\")\n",
    "        print(sectiontitle.text)\n",
    "        pricesTable = i.find(\"table\").find(\"tbody\").find_all(\"tr\")\n",
    "#         print(pricesTable)\n",
    "        for i in pricesTable:\n",
    "            td = i.find_all(\"td\")\n",
    "            for i in td:\n",
    "                if i.text:\n",
    "                    print(i.text)\n",
    "                else:\n",
    "                    price = i.find(\"span\")\n",
    "                    print(price.text)\n",
    "    \n",
    "  "
   ]
  },
  {
   "cell_type": "code",
   "execution_count": 7,
   "metadata": {},
   "outputs": [
    {
     "data": {
      "text/plain": [
       "'https://www.nationaltrust.org.uk/allen-banks-and-staward-gorge'"
      ]
     },
     "execution_count": 7,
     "metadata": {},
     "output_type": "execute_result"
    }
   ],
   "source": [
    "test_url = \"https://www.nationaltrust.org.uk/allen-banks-and-staward-gorge/whats-on\"\n",
    "('/').join(test_url.split('/')[0:4])"
   ]
  },
  {
   "cell_type": "code",
   "execution_count": null,
   "metadata": {
    "collapsed": true
   },
   "outputs": [],
   "source": []
  },
  {
   "cell_type": "code",
   "execution_count": null,
   "metadata": {
    "collapsed": true
   },
   "outputs": [],
   "source": []
  }
 ],
 "metadata": {
  "kernelspec": {
   "display_name": "Python 3",
   "language": "python",
   "name": "python3"
  },
  "language_info": {
   "codemirror_mode": {
    "name": "ipython",
    "version": 3
   },
   "file_extension": ".py",
   "mimetype": "text/x-python",
   "name": "python",
   "nbconvert_exporter": "python",
   "pygments_lexer": "ipython3",
   "version": "3.6.3"
  }
 },
 "nbformat": 4,
 "nbformat_minor": 2
}
