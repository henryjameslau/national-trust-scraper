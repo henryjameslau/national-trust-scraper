{
 "cells": [
  {
   "cell_type": "code",
   "execution_count": 1,
   "metadata": {
    "collapsed": true
   },
   "outputs": [],
   "source": [
    "import requests\n",
    "from bs4 import BeautifulSoup as BS\n",
    "import csv"
   ]
  },
  {
   "cell_type": "code",
   "execution_count": 2,
   "metadata": {
    "collapsed": true
   },
   "outputs": [],
   "source": [
    "nturl = \"https://www.nationaltrust.org.uk/sitemap-place.xml\"\n",
    "\n",
    "nt_page = requests.get(nturl).text"
   ]
  },
  {
   "cell_type": "code",
   "execution_count": 3,
   "metadata": {
    "collapsed": true
   },
   "outputs": [],
   "source": [
    "soup = BS(nt_page, \"xml\")"
   ]
  },
  {
   "cell_type": "code",
   "execution_count": 4,
   "metadata": {
    "collapsed": true
   },
   "outputs": [],
   "source": [
    "data_list = soup.find_all(\"xhtml:link\")"
   ]
  },
  {
   "cell_type": "code",
   "execution_count": 5,
   "metadata": {
    "collapsed": true
   },
   "outputs": [],
   "source": [
    "alinks = [i.get(\"href\") for i in data_list]"
   ]
  },
  {
   "cell_type": "code",
   "execution_count": 36,
   "metadata": {},
   "outputs": [
    {
     "name": "stdout",
     "output_type": "stream",
     "text": [
      "https://www.nationaltrust.org.uk/segontium#Prices\n",
      "https://www.nationaltrust.org.uk/cy_gb#Prices\n",
      "https://www.nationaltrust.org.uk/clyston-mill#Prices\n",
      "Whole property\n",
      "Adult\n",
      "\n",
      "N/A\n",
      "\n",
      "\n",
      "£5.80\n",
      "\n",
      "https://www.nationaltrust.org.uk/mendip-hills#Prices\n",
      "https://www.nationaltrust.org.uk/ulverscroft-nature-reserve#Prices\n",
      "https://www.nationaltrust.org.uk/white-cliffs-dover#Prices\n",
      "Car parking charge (per car)\n",
      "Adult\n",
      "\n",
      "N/A\n",
      "\n",
      "\n",
      "£4.00\n",
      "\n",
      "https://www.nationaltrust.org.uk/bransdale#Prices\n",
      "https://www.nationaltrust.org.uk/allen-banks-and-staward-gorge#Prices\n",
      "https://www.nationaltrust.org.uk/sutton-house#Prices\n",
      "Whole property\n",
      "Adult\n",
      "\n",
      "£7.00\n",
      "\n",
      "\n",
      "£6.30\n",
      "\n",
      "https://www.nationaltrust.org.uk/duffield-castle#Prices\n"
     ]
    }
   ],
   "source": [
    "for i in alinks[:10]:\n",
    "#     print(i)\n",
    "#     place_page = requests.get(i).text\n",
    "#     place_soup = BS(place_page,\"html\")\n",
    "#     place_price = place_soup.find_all(\"a\",{\"id\": \"nt.prices.signpost\"})\n",
    "#     print(i)\n",
    "#     print(place_price)\n",
    "#     if place_soup.find_all(\"a\",{\"id\": \"nt.prices.signpost\"})== True:\n",
    "#         place_price = place_soup.find_all(\"a\",{\"id\": \"nt.prices.signpost\"})\n",
    "#         print(place_price)\n",
    "#     else:\n",
    "#         pass\n",
    "    placeclean = ('/').join(i.split('/')[0:4])\n",
    "    placeclean +=\"#Prices\"\n",
    "    print(placeclean)\n",
    "    place_page = requests.get(placeclean).text\n",
    "    place_soup=BS(place_page,\"html.parser\")\n",
    "    category1 = place_soup.find('span',{\"id\":\"nt.prices.category.1.name\"})\n",
    "    if category1:\n",
    "        print (category1.text)\n",
    "        name1 = place_soup.find('td',{\"id\":\"nt.prices.category.normal.1.price.1.name\"})\n",
    "        print(name1.text)\n",
    "        giftaid1 = place_soup.find('td',{\"id\":\"nt.prices.category.normal.1.price.1.giftaid\"})\n",
    "        print(giftaid1.text)\n",
    "        standard1 = place_soup.find('td',{\"id\":\"nt.prices.category.normal.1.price.1.standard\"})\n",
    "        print(standard1.text)\n",
    "    else:\n",
    "        continue\n",
    "    \n",
    "  "
   ]
  },
  {
   "cell_type": "code",
   "execution_count": 7,
   "metadata": {},
   "outputs": [
    {
     "data": {
      "text/plain": [
       "'https://www.nationaltrust.org.uk/allen-banks-and-staward-gorge'"
      ]
     },
     "execution_count": 7,
     "metadata": {},
     "output_type": "execute_result"
    }
   ],
   "source": [
    "test_url = \"https://www.nationaltrust.org.uk/allen-banks-and-staward-gorge/whats-on\"\n",
    "('/').join(test_url.split('/')[0:4])"
   ]
  },
  {
   "cell_type": "code",
   "execution_count": null,
   "metadata": {
    "collapsed": true
   },
   "outputs": [],
   "source": []
  },
  {
   "cell_type": "code",
   "execution_count": null,
   "metadata": {
    "collapsed": true
   },
   "outputs": [],
   "source": []
  }
 ],
 "metadata": {
  "kernelspec": {
   "display_name": "Python 3",
   "language": "python",
   "name": "python3"
  },
  "language_info": {
   "codemirror_mode": {
    "name": "ipython",
    "version": 3
   },
   "file_extension": ".py",
   "mimetype": "text/x-python",
   "name": "python",
   "nbconvert_exporter": "python",
   "pygments_lexer": "ipython3",
   "version": "3.6.3"
  }
 },
 "nbformat": 4,
 "nbformat_minor": 2
}
