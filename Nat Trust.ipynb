{
 "cells": [
  {
   "cell_type": "code",
   "execution_count": 58,
   "metadata": {},
   "outputs": [],
   "source": [
    "import requests\n",
    "from bs4 import BeautifulSoup as BS\n",
    "import csv\n",
    "import re"
   ]
  },
  {
   "cell_type": "markdown",
   "metadata": {},
   "source": [
    "Get the sitemap from National Trust"
   ]
  },
  {
   "cell_type": "code",
   "execution_count": 2,
   "metadata": {},
   "outputs": [],
   "source": [
    "nturl = \"https://www.nationaltrust.org.uk/sitemap-place.xml\"\n",
    "\n",
    "nt_page = requests.get(nturl).text"
   ]
  },
  {
   "cell_type": "markdown",
   "metadata": {},
   "source": [
    "Read it through beautiful soup as XML"
   ]
  },
  {
   "cell_type": "code",
   "execution_count": 3,
   "metadata": {},
   "outputs": [],
   "source": [
    "soup = BS(nt_page, \"xml\")"
   ]
  },
  {
   "cell_type": "markdown",
   "metadata": {},
   "source": [
    "Find all the links and get just the href"
   ]
  },
  {
   "cell_type": "code",
   "execution_count": 4,
   "metadata": {},
   "outputs": [],
   "source": [
    "data_list = soup.find_all(\"xhtml:link\")"
   ]
  },
  {
   "cell_type": "code",
   "execution_count": 46,
   "metadata": {},
   "outputs": [],
   "source": [
    "alinks = [i.get(\"href\") for i in data_list]\n",
    "\n",
    "# set up data structure to store values\n",
    "NatTrust = {\n",
    "    \"property\" : [],\n",
    "    \"section\" : [],\n",
    "    \"ticket\" : [],\n",
    "    \"type\" : [],\n",
    "    \"price\" : [],\n",
    "}\n",
    "AdFree = []"
   ]
  },
  {
   "cell_type": "code",
   "execution_count": 47,
   "metadata": {},
   "outputs": [
    {
     "name": "stdout",
     "output_type": "stream",
     "text": [
      "https://www.nationaltrust.org.uk/segontium#Prices\n",
      "Segontium\n",
      "https://www.nationaltrust.org.uk/cy_gb#Prices\n",
      "https://www.nationaltrust.org.uk/clyston-mill#Prices\n",
      "Clyston Mill\n",
      "https://www.nationaltrust.org.uk/mendip-hills#Prices\n",
      "Mendip Hills\n",
      "https://www.nationaltrust.org.uk/ulverscroft-nature-reserve#Prices\n",
      "Ulverscroft Nature Reserve\n",
      "https://www.nationaltrust.org.uk/white-cliffs-dover#Prices\n",
      "The White Cliffs of Dover\n",
      "https://www.nationaltrust.org.uk/bransdale#Prices\n",
      "Bransdale\n",
      "https://www.nationaltrust.org.uk/allen-banks-and-staward-gorge#Prices\n",
      "Allen Banks and Staward Gorge\n",
      "https://www.nationaltrust.org.uk/sutton-house#Prices\n",
      "Sutton House and Breaker's Yard\n",
      "https://www.nationaltrust.org.uk/duffield-castle#Prices\n",
      "Duffield Castle\n",
      "{'property': ['Clyston Mill', 'Clyston Mill', 'Clyston Mill', 'Clyston Mill', 'Clyston Mill', 'Clyston Mill', 'Clyston Mill', 'Clyston Mill', 'The White Cliffs of Dover', 'The White Cliffs of Dover', 'The White Cliffs of Dover', 'The White Cliffs of Dover', 'The White Cliffs of Dover', 'The White Cliffs of Dover', \"Sutton House and Breaker's Yard\", \"Sutton House and Breaker's Yard\", \"Sutton House and Breaker's Yard\", \"Sutton House and Breaker's Yard\", \"Sutton House and Breaker's Yard\", \"Sutton House and Breaker's Yard\", \"Sutton House and Breaker's Yard\", \"Sutton House and Breaker's Yard\", \"Sutton House and Breaker's Yard\", \"Sutton House and Breaker's Yard\"], 'section': ['Whole property', 'Whole property', 'Whole property', 'Whole property', 'Whole property', 'Whole property', 'Whole property', 'Whole property', 'Car parking charge (per car)', 'Car parking charge (per car)', 'Fan Bay Deep Shelter', 'Fan Bay Deep Shelter', 'Fan Bay Deep Shelter', 'Fan Bay Deep Shelter', 'Whole property', 'Whole property', 'Whole property', 'Whole property', 'Whole property', 'Whole property', 'Whole property', 'Whole property', 'Whole property', 'Whole property'], 'ticket': ['Adult', 'Adult', 'Child', 'Child', 'Family', 'Family', '1 adult', '1 adult', 'Adult', 'Adult', 'Adult', 'Adult', 'Child', 'Child', 'Adult', 'Adult', 'Child', 'Child', 'Family', 'Family', 'One adult two Children', 'One adult two Children', '\\nGroup Adult\\nMinimum group size 10\\n', '\\nGroup Adult\\nMinimum group size 10\\n'], 'type': ['Gift aid', 'Standard', 'Gift aid', 'Standard', 'Gift aid', 'Standard', 'Gift aid', 'Standard', 'Gift aid', 'Standard', 'Gift aid', 'Standard', 'Gift aid', 'Standard', 'Gift aid', 'Standard', 'Gift aid', 'Standard', 'Gift aid', 'Standard', 'Gift aid', 'Standard', 'Gift aid', 'Standard'], 'price': ['\\nN/A\\n', '\\n£5.80\\n', '\\nN/A\\n', '\\n£2.90\\n', '\\nN/A\\n', '\\n£14.50\\n', '\\nN/A\\n', '\\n£8.70\\n', '\\nN/A\\n', '\\n£4.00\\n', '\\nN/A\\n', '\\n£10.00\\n', '\\nN/A\\n', '\\n£5.00\\n', '\\n£7.00\\n', '\\n£6.30\\n', '\\n£3.50\\n', '\\n£3.00\\n', '\\n£17.50\\n', '\\n£15.50\\n', '\\n£10.50\\n', '\\n£9.50\\n', '\\nN/A\\n', '\\n£5.40\\n']}\n",
      "['Segontium', 'Mendip Hills', 'Ulverscroft Nature Reserve', 'Bransdale', 'Allen Banks and Staward Gorge', 'Duffield Castle']\n"
     ]
    }
   ],
   "source": [
    "for i in alinks[:10]:\n",
    "#clean the URL and add prices to the end\n",
    "    placeclean = ('/').join(i.split('/')[0:4])\n",
    "    placeclean +=\"#Prices\"\n",
    "    print(placeclean)\n",
    "#request the URL and put it through BS \n",
    "    place_page = requests.get(placeclean).text\n",
    "    place_soup=BS(place_page,\"html.parser\")\n",
    "#Get the title\n",
    "\n",
    "    title = place_soup.find(\"meta\",  property=\"og:title\")\n",
    "    if title:\n",
    "        property = title[\"content\"]\n",
    "        print(property)\n",
    "    else:\n",
    "        continue\n",
    "#get the table of prices    \n",
    "    prices = place_soup.find(\"div\",{\"id\":\"nt.prices\"})\n",
    "    if prices:\n",
    "        section = prices.find_all(\"div\",{\"class\":\"section\"})\n",
    "        if section:\n",
    "            for i in section:\n",
    "                sectiontitle = i.find(\"span\")\n",
    "                category = sectiontitle.text\n",
    "#                 print(category)\n",
    "                pricesTable = i.find(\"table\").find(\"tbody\").find_all(\"tr\")\n",
    "#                 print(pricesTable)\n",
    "                for i in pricesTable:\n",
    "                    td = i.find_all(\"td\")\n",
    "                    for index,i in enumerate(td):\n",
    "                        if index==0:\n",
    "#                             print(i.text)\n",
    "                            ticket=i.text\n",
    "                        elif index==1:\n",
    "#                             print(i.text)\n",
    "                            gaprice=i.text\n",
    "                            NatTrust[\"property\"].append(property)\n",
    "                            NatTrust[\"section\"].append(category)\n",
    "                            NatTrust[\"ticket\"].append(ticket)\n",
    "                            NatTrust[\"type\"].append(\"Gift aid\")\n",
    "                            NatTrust[\"price\"].append(gaprice)\n",
    "                        elif index==2:\n",
    "                            standard = i.text\n",
    "#                             print(i.text)\n",
    "                            NatTrust[\"property\"].append(property)\n",
    "                            NatTrust[\"section\"].append(category)\n",
    "                            NatTrust[\"ticket\"].append(ticket)\n",
    "                            NatTrust[\"type\"].append(\"Standard\")\n",
    "                            NatTrust[\"price\"].append(standard)                      \n",
    "        else:\n",
    "            free = prices.find(\"h2\",{\"id\":\"nt.prices.free.admission.notice\"})\n",
    "#             print(property, free.text)\n",
    "            AdFree.append(property)\n",
    "    else:\n",
    "        continue\n",
    "        \n",
    "print(NatTrust)\n",
    "print(AdFree)"
   ]
  },
  {
   "cell_type": "code",
   "execution_count": 59,
   "metadata": {},
   "outputs": [],
   "source": [
    "with open(\"NatTrust.csv\", \"w\") as NatTrustCSV:\n",
    "    fields = [\"property\",\"section\",\"ticket\",\"type\",\"price\"]\n",
    "    writer = csv.DictWriter(NatTrustCSV, fields)\n",
    "    writer.writeheader()\n",
    "    for index,i in enumerate(NatTrust[\"property\"]):\n",
    "        row={\"property\":NatTrust[\"property\"][index],\"section\":NatTrust[\"section\"][index],\"ticket\":NatTrust[\"ticket\"][index],\"type\":NatTrust[\"type\"][index],\"price\":NatTrust[\"price\"][index]}\n",
    "        writer.writerow(row)"
   ]
  },
  {
   "cell_type": "code",
   "execution_count": 54,
   "metadata": {},
   "outputs": [
    {
     "name": "stdout",
     "output_type": "stream",
     "text": [
      "property Clyston Mill\n",
      "property Clyston Mill\n",
      "property Clyston Mill\n",
      "property Clyston Mill\n",
      "property Clyston Mill\n",
      "property Clyston Mill\n",
      "property Clyston Mill\n",
      "property Clyston Mill\n",
      "property The White Cliffs of Dover\n",
      "property The White Cliffs of Dover\n",
      "property The White Cliffs of Dover\n",
      "property The White Cliffs of Dover\n",
      "property The White Cliffs of Dover\n",
      "property The White Cliffs of Dover\n",
      "property Sutton House and Breaker's Yard\n",
      "property Sutton House and Breaker's Yard\n",
      "property Sutton House and Breaker's Yard\n",
      "property Sutton House and Breaker's Yard\n",
      "property Sutton House and Breaker's Yard\n",
      "property Sutton House and Breaker's Yard\n",
      "property Sutton House and Breaker's Yard\n",
      "property Sutton House and Breaker's Yard\n",
      "property Sutton House and Breaker's Yard\n",
      "property Sutton House and Breaker's Yard\n"
     ]
    }
   ],
   "source": [
    "for index,i in enumerate(NatTrust[\"property\"]):\n",
    "    print(\"property\",NatTrust[\"property\"][index])"
   ]
  },
  {
   "cell_type": "code",
   "execution_count": null,
   "metadata": {
    "collapsed": true
   },
   "outputs": [],
   "source": []
  }
 ],
 "metadata": {
  "kernelspec": {
   "display_name": "Python 3",
   "language": "python",
   "name": "python3"
  },
  "language_info": {
   "codemirror_mode": {
    "name": "ipython",
    "version": 3
   },
   "file_extension": ".py",
   "mimetype": "text/x-python",
   "name": "python",
   "nbconvert_exporter": "python",
   "pygments_lexer": "ipython3",
   "version": "3.6.4"
  }
 },
 "nbformat": 4,
 "nbformat_minor": 2
}
